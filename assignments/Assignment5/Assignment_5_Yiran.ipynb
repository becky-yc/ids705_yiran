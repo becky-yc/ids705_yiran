{
 "cells": [
  {
   "cell_type": "markdown",
   "metadata": {},
   "source": [
    "# Assignment 5 - Reinforcement Learning\n",
    "\n",
    "## *Yiran Chen*\n",
    "Netid:  *yc390*"
   ]
  },
  {
   "cell_type": "markdown",
   "metadata": {},
   "source": [
    "### Blackjack\n",
    "\n",
    "Your goal is to develop a reinforcement learning technique to learn the optimal policy for winning at blackjack. Here, we're going to modify the rules from traditional blackjack a bit in a way that corresponds to the game presented in Sutton and Barto's *Reinforcement Learning: An Introduction* (Chapter 5, example 5.1). A full implementation of the game is provided and usage examples are detailed in the class header below.\n",
    "\n",
    "The rules of this modified version of the game of blackjack are as follows:\n",
    "\n",
    "- Blackjack is a card game where the goal is to obtain cards that sum to as near as possible to 21 without going over.  We're playing against a fixed (autonomous) dealer.\n",
    "- Face cards (Jack, Queen, King) have point value 10. Aces can either count as 11 or 1, and we're refer to it as 'usable' at 11 (indicating that it could be used as a '1' if need be. This game is placed with a deck of cards sampled with replacement.\n",
    "- The game starts with each (player and dealer) having one face up and one face down card.\n",
    "- The player can request additional cards (hit, or action '1') until they decide to stop (stay, action '0') or exceed 21 (bust, the game ends and player loses).\n",
    "- After the player stays, the dealer reveals their facedown card, and draws until their sum is 17 or greater. If the dealer goes bust the player wins. If neither player nor dealer busts, the outcome (win, lose, draw) is decided by whose sum is closer to 21.  The reward for winning is +1, drawing is 0, and losing is -1.\n",
    "\n",
    "\n",
    "\n",
    "You will accomplish three things:\n",
    "1. Try your hand at this game of blackjack and see what your human reinforcement learning system is able to achieve\n",
    "2. Evaluate a simple policy using Monte Carlo policy evaluation\n",
    "3. Determine an optimal policy using Monte Carlo control\n",
    "\n",
    "*This problem is adapted from David Silver's [excellent series on Reinforcement Learning](http://www0.cs.ucl.ac.uk/staff/d.silver/web/Teaching.html) at University College London*"
   ]
  },
  {
   "cell_type": "code",
   "execution_count": 5,
   "metadata": {},
   "outputs": [],
   "source": [
    "import random\n",
    "import numpy as np\n",
    "import pandas as pd\n",
    "import matplotlib.pyplot as plt\n",
    "import seaborn as sns\n",
    "import warnings\n",
    "warnings.filterwarnings('ignore')\n",
    "from tqdm import trange"
   ]
  },
  {
   "cell_type": "markdown",
   "metadata": {},
   "source": [
    "## 1\n",
    "\n",
    "### [10 points] Human reinforcement learning \n",
    "\n",
    "Using the code detailed below, play 50 hands of blackjack, and record your overall average reward. This will help you get accustomed with how the game works, the data structures involved with representing states, and what strategies are most effective."
   ]
  },
  {
   "cell_type": "code",
   "execution_count": 6,
   "metadata": {},
   "outputs": [],
   "source": [
    "import numpy as np\n",
    "\n",
    "class Blackjack():\n",
    "    \"\"\"Simple blackjack environment adapted from OpenAI Gym:\n",
    "        https://github.com/openai/gym/blob/master/gym/envs/toy_text/blackjack.py\n",
    "    \n",
    "    Blackjack is a card game where the goal is to obtain cards that sum to as\n",
    "    near as possible to 21 without going over.  They're playing against a fixed\n",
    "    dealer.\n",
    "    \n",
    "    Face cards (Jack, Queen, King) have point value 10.\n",
    "    Aces can either count as 11 or 1, and it's called 'usable' at 11.\n",
    "    This game is placed with a deck sampled with replacement.\n",
    "    \n",
    "    The game starts with each (player and dealer) having one face up and one\n",
    "    face down card.\n",
    "    \n",
    "    The player can request additional cards (hit = 1) until they decide to stop\n",
    "    (stay = 0) or exceed 21 (bust).\n",
    "    \n",
    "    After the player stays, the dealer reveals their facedown card, and draws\n",
    "    until their sum is 17 or greater.  If the dealer goes bust the player wins.\n",
    "    If neither player nor dealer busts, the outcome (win, lose, draw) is\n",
    "    decided by whose sum is closer to 21.  The reward for winning is +1,\n",
    "    drawing is 0, and losing is -1.\n",
    "    \n",
    "    The observation is a 3-tuple of: the players current sum,\n",
    "    the dealer's one showing card (1-10 where 1 is ace),\n",
    "    and whether or not the player holds a usable ace (0 or 1).\n",
    "    \n",
    "    This environment corresponds to the version of the blackjack problem\n",
    "    described in Example 5.1 in Reinforcement Learning: An Introduction\n",
    "    by Sutton and Barto (1998).\n",
    "    \n",
    "    http://incompleteideas.net/sutton/book/the-book.html\n",
    "    \n",
    "    Usage: \n",
    "        Initialize the class:\n",
    "            game = Blackjack()\n",
    "        \n",
    "        Deal the cards:\n",
    "            game.deal()\n",
    "            \n",
    "             (14, 3, False)\n",
    "             \n",
    "            This is the agent's observation of the state of the game:\n",
    "            The first value is the sum of cards in your hand (14 in this case)\n",
    "            The second is the visible card in the dealer's hand (3 in this case)\n",
    "            The Boolean is a flag (False in this case) to indicate whether or \n",
    "                not you have a usable Ace\n",
    "            (Note: if you have a usable ace, the sum will treat the ace as a \n",
    "                value of '11' - this is the case if this Boolean flag is \"true\")\n",
    "            \n",
    "        Take an action: Hit (1) or stay (0)\n",
    "        \n",
    "            Take a hit: game.step(1)\n",
    "            To Stay:    game.step(0)\n",
    "            \n",
    "        The output summarizes the game status:\n",
    "            \n",
    "            ((15, 3, False), 0, False)\n",
    "            \n",
    "            The first tuple (15, 3, False), is the agent's observation of the\n",
    "            state of the game as described above.\n",
    "            The second value (0) indicates the rewards\n",
    "            The third value (False) indicates whether the game is finished\n",
    "    \"\"\"\n",
    "    \n",
    "    def __init__(self):\n",
    "        # 1 = Ace, 2-10 = Number cards, Jack/Queen/King = 10\n",
    "        self.deck   = [1, 2, 3, 4, 5, 6, 7, 8, 9, 10, 10, 10, 10]\n",
    "        self.dealer = []\n",
    "        self.player = []\n",
    "        self.deal()\n",
    "\n",
    "    def step(self, action):\n",
    "        if action == 1:  # hit: add a card to players hand and return\n",
    "            self.player.append(self.draw_card())\n",
    "            if self.is_bust(self.player):\n",
    "                done = True\n",
    "                reward = -1\n",
    "            else:\n",
    "                done = False\n",
    "                reward = 0\n",
    "        else:  # stay: play out the dealers hand, and score\n",
    "            done = True\n",
    "            while self.sum_hand(self.dealer) < 17:\n",
    "                self.dealer.append(self.draw_card())\n",
    "            reward = self.cmp(self.score(self.player), self.score(self.dealer))\n",
    "        return self._get_obs(), reward, done\n",
    "\n",
    "    def _get_obs(self):\n",
    "        return (self.sum_hand(self.player), self.dealer[0], self.usable_ace(self.player))\n",
    "\n",
    "    def deal(self):\n",
    "        self.dealer = self.draw_hand()\n",
    "        self.player = self.draw_hand()\n",
    "        return self._get_obs()\n",
    "    \n",
    "    #------------------------------------------\n",
    "    # Other helper functions\n",
    "    #------------------------------------------\n",
    "    def cmp(self, a, b):\n",
    "        return float(a > b) - float(a < b)\n",
    "    \n",
    "    def draw_card(self):\n",
    "        return int(np.random.choice(self.deck))\n",
    "    \n",
    "    def draw_hand(self):\n",
    "        return [self.draw_card(), self.draw_card()]\n",
    "    \n",
    "    def usable_ace(self,hand):  # Does this hand have a usable ace?\n",
    "        return 1 in hand and sum(hand) + 10 <= 21\n",
    "    \n",
    "    def sum_hand(self,hand):  # Return current hand total\n",
    "        if self.usable_ace(hand):\n",
    "            return sum(hand) + 10\n",
    "        return sum(hand)\n",
    "    \n",
    "    def is_bust(self,hand):  # Is this hand a bust?\n",
    "        return self.sum_hand(hand) > 21\n",
    "    \n",
    "    def score(self,hand):  # What is the score of this hand (0 if bust)\n",
    "        return 0 if self.is_bust(hand) else self.sum_hand(hand)"
   ]
  },
  {
   "cell_type": "markdown",
   "metadata": {},
   "source": [
    "Here's an example of how it works to get you started:"
   ]
  },
  {
   "cell_type": "code",
   "execution_count": 17,
   "metadata": {},
   "outputs": [
    {
     "name": "stdout",
     "output_type": "stream",
     "text": [
      "(20, 8, False)\n",
      "((27, 8, False), -1, True)\n"
     ]
    }
   ],
   "source": [
    "import numpy as np\n",
    "\n",
    "# Initialize the class:\n",
    "game = Blackjack()\n",
    "\n",
    "# Deal the cards:\n",
    "s0 = game.deal()\n",
    "print(s0)\n",
    "\n",
    "# Take an action: Hit = 1 or stay = 0. Here's a hit:\n",
    "s1 = game.step(1)\n",
    "print(s1)\n",
    "\n",
    "# If you wanted to stay:\n",
    "# game.step(2)\n",
    "\n",
    "# When it's gameover, just redeal:\n",
    "# game.deal()"
   ]
  },
  {
   "cell_type": "markdown",
   "metadata": {},
   "source": [
    "**ANSWER**"
   ]
  },
  {
   "cell_type": "code",
   "execution_count": 182,
   "metadata": {},
   "outputs": [
    {
     "name": "stdout",
     "output_type": "stream",
     "text": [
      "\n",
      "Hand number 1\n",
      "((15, 10, False), 0, False)\n",
      "take step 1\n",
      "((25, 10, False), -1, True)\n",
      "\n",
      "Hand number 2\n",
      "((14, 9, False), 0, False)\n",
      "take step 1\n",
      "((20, 9, False), 0, False)\n",
      "take step 1\n",
      "((30, 9, False), -1, True)\n",
      "\n",
      "Hand number 3\n",
      "((20, 8, False), 0, False)\n",
      "take step 1\n",
      "((23, 8, False), -1, True)\n",
      "\n",
      "Hand number 4\n",
      "((14, 10, False), 0, False)\n",
      "take step 1\n",
      "((24, 10, False), -1, True)\n",
      "\n",
      "Hand number 5\n",
      "((19, 7, False), 0, False)\n",
      "take step 2\n",
      "((19, 7, False), 1.0, True)\n",
      "\n",
      "Hand number 6\n",
      "((18, 4, True), 0, False)\n",
      "take step 1\n",
      "((18, 4, False), 0, False)\n",
      "take step 2\n",
      "((18, 4, False), -1.0, True)\n",
      "\n",
      "Hand number 7\n",
      "((9, 10, False), 0, False)\n",
      "take step 2\n",
      "((9, 10, False), -1.0, True)\n",
      "\n",
      "Hand number 8\n",
      "((6, 6, False), 0, False)\n",
      "take step 2\n",
      "((6, 6, False), 1.0, True)\n",
      "\n",
      "Hand number 9\n",
      "((12, 6, False), 0, False)\n",
      "take step 2\n",
      "((12, 6, False), 1.0, True)\n",
      "\n",
      "Hand number 10\n",
      "((16, 10, False), 0, False)\n",
      "take step 2\n",
      "((16, 10, False), -1.0, True)\n",
      "\n",
      "Hand number 11\n",
      "((11, 10, False), 0, False)\n",
      "take step 2\n",
      "((11, 10, False), 1.0, True)\n",
      "\n",
      "Hand number 12\n",
      "((16, 10, False), 0, False)\n",
      "take step 1\n",
      "((26, 10, False), -1, True)\n",
      "\n",
      "Hand number 13\n",
      "((21, 7, True), 0, False)\n",
      "take step 1\n",
      "((16, 7, False), 0, False)\n",
      "take step 2\n",
      "((16, 7, False), -1.0, True)\n",
      "\n",
      "Hand number 14\n",
      "((14, 7, False), 0, False)\n",
      "take step 1\n",
      "((20, 7, False), 0, False)\n",
      "take step 1\n",
      "((30, 7, False), -1, True)\n",
      "\n",
      "Hand number 15\n",
      "((16, 4, False), 0, False)\n",
      "take step 2\n",
      "((16, 4, False), -1.0, True)\n",
      "\n",
      "Hand number 16\n",
      "((20, 10, False), 0, False)\n",
      "take step 1\n",
      "((26, 10, False), -1, True)\n",
      "\n",
      "Hand number 17\n",
      "((9, 10, False), 0, False)\n",
      "take step 2\n",
      "((9, 10, False), -1.0, True)\n",
      "\n",
      "Hand number 18\n",
      "((15, 10, True), 0, False)\n",
      "take step 1\n",
      "((18, 10, True), 0, False)\n",
      "take step 2\n",
      "((18, 10, True), 1.0, True)\n",
      "\n",
      "Hand number 19\n",
      "((15, 5, False), 0, False)\n",
      "take step 1\n",
      "((25, 5, False), -1, True)\n",
      "\n",
      "Hand number 20\n",
      "((18, 10, False), 0, False)\n",
      "take step 1\n",
      "((25, 10, False), -1, True)\n",
      "\n",
      "Hand number 21\n",
      "((4, 3, False), 0, False)\n",
      "take step 1\n",
      "((6, 3, False), 0, False)\n",
      "take step 1\n",
      "((10, 3, False), 0, False)\n",
      "take step 2\n",
      "((10, 3, False), 1.0, True)\n",
      "\n",
      "Hand number 22\n",
      "((14, 2, False), 0, False)\n",
      "take step 2\n",
      "((14, 2, False), -1.0, True)\n",
      "\n",
      "Hand number 23\n",
      "((14, 7, False), 0, False)\n",
      "take step 1\n",
      "((20, 7, False), 0, False)\n",
      "take step 1\n",
      "((29, 7, False), -1, True)\n",
      "\n",
      "Hand number 24\n",
      "((15, 5, False), 0, False)\n",
      "take step 2\n",
      "((15, 5, False), -1.0, True)\n",
      "\n",
      "Hand number 25\n",
      "((20, 5, False), 0, False)\n",
      "take step 1\n",
      "((30, 5, False), -1, True)\n",
      "\n",
      "Hand number 26\n",
      "((13, 7, False), 0, False)\n",
      "take step 2\n",
      "((13, 7, False), -1.0, True)\n",
      "\n",
      "Hand number 27\n",
      "((20, 10, False), 0, False)\n",
      "take step 2\n",
      "((20, 10, False), 0.0, True)\n",
      "\n",
      "Hand number 28\n",
      "((14, 10, False), 0, False)\n",
      "take step 2\n",
      "((14, 10, False), 1.0, True)\n",
      "\n",
      "Hand number 29\n",
      "((12, 3, False), 0, False)\n",
      "take step 2\n",
      "((12, 3, False), -1.0, True)\n",
      "\n",
      "Hand number 30\n",
      "((11, 7, False), 0, False)\n",
      "take step 1\n",
      "((21, 7, False), 0, False)\n",
      "take step 1\n",
      "((26, 7, False), -1, True)\n",
      "\n",
      "Hand number 31\n",
      "((20, 5, False), 0, False)\n",
      "take step 1\n",
      "((30, 5, False), -1, True)\n",
      "\n",
      "Hand number 32\n",
      "((12, 1, False), 0, False)\n",
      "take step 2\n",
      "((12, 1, False), -1.0, True)\n",
      "\n",
      "Hand number 33\n",
      "((17, 5, False), 0, False)\n",
      "take step 1\n",
      "((27, 5, False), -1, True)\n",
      "\n",
      "Hand number 34\n",
      "((16, 10, False), 0, False)\n",
      "take step 1\n",
      "((26, 10, False), -1, True)\n",
      "\n",
      "Hand number 35\n",
      "((13, 3, True), 0, False)\n",
      "take step 2\n",
      "((13, 3, True), -1.0, True)\n",
      "\n",
      "Hand number 36\n",
      "((19, 10, True), 0, False)\n",
      "take step 1\n",
      "((21, 10, True), 0, False)\n",
      "take step 2\n",
      "((21, 10, True), 1.0, True)\n",
      "\n",
      "Hand number 37\n",
      "((14, 7, True), 0, False)\n",
      "take step 2\n",
      "((14, 7, True), 1.0, True)\n",
      "\n",
      "Hand number 38\n",
      "((17, 10, False), 0, False)\n",
      "take step 2\n",
      "((17, 10, False), -1.0, True)\n",
      "\n",
      "Hand number 39\n",
      "((11, 10, False), 0, False)\n",
      "take step 1\n",
      "((18, 10, False), 0, False)\n",
      "take step 1\n",
      "((21, 10, False), 0, False)\n",
      "take step 1\n",
      "((29, 10, False), -1, True)\n",
      "\n",
      "Hand number 40\n",
      "((13, 10, False), 0, False)\n",
      "take step 1\n",
      "((19, 10, False), 0, False)\n",
      "take step 2\n",
      "((19, 10, False), -1.0, True)\n",
      "\n",
      "Hand number 41\n",
      "((18, 9, True), 0, False)\n",
      "take step 2\n",
      "((18, 9, True), -1.0, True)\n",
      "\n",
      "Hand number 42\n",
      "((19, 3, False), 0, False)\n",
      "take step 1\n",
      "((27, 3, False), -1, True)\n",
      "\n",
      "Hand number 43\n",
      "((12, 10, False), 0, False)\n",
      "take step 2\n",
      "((12, 10, False), 1.0, True)\n",
      "\n",
      "Hand number 44\n",
      "((16, 10, False), 0, False)\n",
      "take step 1\n",
      "((22, 10, False), -1, True)\n",
      "\n",
      "Hand number 45\n",
      "((15, 10, False), 0, False)\n",
      "take step 2\n",
      "((15, 10, False), 1.0, True)\n",
      "\n",
      "Hand number 46\n",
      "((15, 8, True), 0, False)\n",
      "take step 2\n",
      "((15, 8, True), -1.0, True)\n",
      "\n",
      "Hand number 47\n",
      "((13, 5, True), 0, False)\n",
      "take step 2\n",
      "((13, 5, True), 1.0, True)\n",
      "\n",
      "Hand number 48\n",
      "((14, 4, True), 0, False)\n",
      "take step 1\n",
      "((16, 4, True), 0, False)\n",
      "take step 1\n",
      "((21, 4, True), 0, False)\n",
      "take step 1\n",
      "((21, 4, False), 0, False)\n",
      "take step 1\n",
      "((24, 4, False), -1, True)\n",
      "\n",
      "Hand number 49\n",
      "((12, 5, False), 0, False)\n",
      "take step 2\n",
      "((12, 5, False), 1.0, True)\n",
      "\n",
      "Hand number 50\n",
      "((16, 4, False), 0, False)\n",
      "take step 2\n",
      "((16, 4, False), 1.0, True)\n",
      "\n",
      "The overall average reward: -0.42\n"
     ]
    }
   ],
   "source": [
    "## Human reinforcement learning\n",
    "## play 50 hands of blackjack, and record overall average reward\n",
    "\n",
    "# initialize \n",
    "game = Blackjack()\n",
    "reward = 0\n",
    "\n",
    "for i in range(50):\n",
    "    # for each hand, initialize state0 using deal()\n",
    "    # initialize step and player sum to be 0\n",
    "    print(f'\\nHand number {i+1}')\n",
    "    state0 = ((game.deal(), 0, False))\n",
    "    print(state0)\n",
    "    \n",
    "    step = 0\n",
    "    sumi = 0\n",
    "    \n",
    "    while sumi<=21: \n",
    "        # make random choice between step 1/2\n",
    "        step = random.choice([1,2])\n",
    "        print(f'take step {step}')\n",
    "        \n",
    "        # taking step1 hit, keep drawing\n",
    "        if step==1:\n",
    "            # update state: \n",
    "            # state(player sum, dealer's card, ace), reward, finish\n",
    "            state = game.step(1)\n",
    "            sumi = state[0][0]\n",
    "            reward += state[1]\n",
    "            print(state)\n",
    "            #print(game.dealer)\n",
    "            #print(reward)\n",
    "        \n",
    "        # taking step2 stay, play out the dealers hand, and score\n",
    "        elif step==2:\n",
    "            # update state: \n",
    "            # state(player sum, dealer's card, ace), reward, finish\n",
    "            state = game.step(2)\n",
    "            sumi = state[0][0]\n",
    "            reward += state[1]\n",
    "            print(state)\n",
    "            #print(game.dealer)\n",
    "            #print(reward)\n",
    "            break\n",
    "            \n",
    "print(f'\\nThe overall average reward: {reward/50}')            "
   ]
  },
  {
   "cell_type": "markdown",
   "metadata": {},
   "source": [
    "## 2\n",
    "\n",
    "### [40 points] Perform Monte Carlo Policy Evaluation\n",
    "\n",
    "Thinking that you want to make your millions playing blackjack, you decide to test out a policy for playing this game. Your idea is an aggressive strategy: always hit unless the total of your cards adds up to 20 or 21, in which case you stay.\n",
    "\n",
    "**(a)** Use Monte Carlo policy evaluation to evaluate the expected returns from each state. Create plots for these similar to Sutton and Barto, Figure 5.1 where you plot the expected returns for each state. In this case create 2 plots:\n",
    "1. When you have a useable ace, plot the state space with the dealer's card on the x-axis, and the player's sum on the y-axis, and use the 'RdBu' matplotlib colormap and `imshow` to plot the value of each state under the policy described above. The domain of your x and y axes should include all possible states (2 to 21 for the player sum, and 1 to 10 for the dealer's card). Do this for for 10,000 episodes.\n",
    "2. Repeat (1) for the states without a usable ace.\n",
    "3. Repeat (1) for the case of 500,000 episodes.\n",
    "4. Relwat (2) for the case of 500,000 episodes.\n",
    "\n",
    "**(b)** Show a plot of the overall average reward per episode vs the number of episodes. For both the 10,000 episode case and the 500,000 episode case, record the overall average reward for this policy and report that value. "
   ]
  },
  {
   "cell_type": "markdown",
   "metadata": {},
   "source": [
    "**ANSWER**"
   ]
  },
  {
   "cell_type": "code",
   "execution_count": 323,
   "metadata": {},
   "outputs": [],
   "source": [
    "# (a) Use Monte Carlo policy evaluation to evaluate the expected returns from each state\n",
    "\n",
    "# final reward for each state\n",
    "def mcpe(iter_num):\n",
    "    \n",
    "    # initialize value-state matrix \n",
    "    # (player sum, dealer's card, count)\n",
    "    val_mat_ace = np.zeros((20,10,2))\n",
    "    val_mat_no = np.zeros((20,10,2))\n",
    "    \n",
    "    # initialize reward list\n",
    "    reward_list = []\n",
    "    \n",
    "    for i in range(iter_num):\n",
    "        # initialize state list\n",
    "        states = []\n",
    "        \n",
    "        # initialize finish boolean\n",
    "        finish = False\n",
    "        \n",
    "        # initialize game\n",
    "        game = Blackjack()\n",
    "        hand0 = game.deal()\n",
    "        \n",
    "        # initialize player, dealer index of mat\n",
    "        sumi = hand0[0]\n",
    "        player_idx, dealer_idx = sumi-2, hand0[1]-1\n",
    "        ace = hand0[2]\n",
    "        step = 0\n",
    "        \n",
    "        while (not finish) and (step!=2) and (sumi <= 21):\n",
    "            # record each intermediate states\n",
    "            states.append((player_idx, dealer_idx))\n",
    "            \n",
    "            # always hit before sum to 20/21\n",
    "            if sumi < 20:\n",
    "                step = 1\n",
    "            # otherwise stay\n",
    "            else:\n",
    "                step = 2\n",
    "            \n",
    "            # take step\n",
    "            state = game.step(step)\n",
    "            hand, reward, finish = state\n",
    "\n",
    "            # update player sum\n",
    "            sumi = hand[0]\n",
    "            \n",
    "            # update player/dealer idx\n",
    "            player_idx, dealer_idx = sumi-2, hand[1]-1\n",
    "        pass\n",
    "        \n",
    "        # record reward after each game\n",
    "        reward_list.append(reward)\n",
    "\n",
    "        \n",
    "        # assign end reward to each intermediate states\n",
    "        for (player_idx, dealer_idx) in states:\n",
    "            \n",
    "            # when usable ace\n",
    "            if ace:\n",
    "                val_mat_ace[player_idx, dealer_idx][0] += reward\n",
    "                val_mat_ace[player_idx, dealer_idx][1] += 1\n",
    "\n",
    "            # when no usable ace\n",
    "            else:\n",
    "                val_mat_no[player_idx, dealer_idx][0] += reward\n",
    "                val_mat_no[player_idx, dealer_idx][1] += 1 \n",
    "        pass\n",
    "    \n",
    "    pass\n",
    "\n",
    "    # returns nan for 0 count\n",
    "    val_mat_ace = np.divide(val_mat_ace[:,:,0], val_mat_ace[:,:,1])\n",
    "    val_mat_no = np.divide(val_mat_no[:,:,0], val_mat_no[:,:,1])\n",
    "    \n",
    "    # average reward per episode\n",
    "    avg_reward = np.cumsum(reward_list)/np.arange(1,iter_num+1)\n",
    "    \n",
    "    return val_mat_ace, val_mat_no, avg_reward"
   ]
  },
  {
   "cell_type": "code",
   "execution_count": 324,
   "metadata": {},
   "outputs": [],
   "source": [
    "# 10,000 episodes\n",
    "val_mat_ace1, val_mat_no1, avg_reward1 = mcpe(iter_num=10000)"
   ]
  },
  {
   "cell_type": "code",
   "execution_count": 416,
   "metadata": {},
   "outputs": [],
   "source": [
    "# plot the value of each state under the aggressive policy described\n",
    "def plot(val_mat_ace, val_mat_no):\n",
    "    plt.figure(figsize=(12,8))\n",
    "    plt.suptitle('Value of each state under naive policy (10,000 episodes)')\n",
    "\n",
    "    plt.subplot(1,2,1)\n",
    "    plt.title('With usable ace')\n",
    "    plt.imshow(val_mat_ace, vmin=-1, vmax=1, cmap=\"RdBu\")\n",
    "    plt.xlabel(\"Dealer's card\")\n",
    "    plt.ylabel(\"Player's sum\")\n",
    "    plt.xticks(np.arange(10), list(map(int, np.arange(1,11))))\n",
    "    plt.yticks(np.arange(20), list(map(int, np.arange(2,22))))\n",
    "    plt.colorbar()\n",
    "\n",
    "    plt.subplot(1,2,2)\n",
    "    plt.title('No usable ace')\n",
    "    plt.imshow(val_mat_no, vmin=-1, vmax=1, cmap=\"RdBu\")\n",
    "    plt.xlabel(\"Dealer's card\")\n",
    "    plt.ylabel(\"Player's sum\")\n",
    "    plt.xticks(np.arange(10), list(map(int, np.arange(1,11))))\n",
    "    plt.yticks(np.arange(20), list(map(int, np.arange(2,22))))\n",
    "    plt.colorbar()\n",
    "    plt.show()"
   ]
  },
  {
   "cell_type": "code",
   "execution_count": 417,
   "metadata": {},
   "outputs": [
    {
     "data": {
      "image/png": "[encoded data removed]",
      "text/plain": [
       "<Figure size 864x576 with 4 Axes>"
      ]
     },
     "metadata": {
      "needs_background": "light"
     },
     "output_type": "display_data"
    }
   ],
   "source": [
    "plot(val_mat_ace1, val_mat_no1)"
   ]
  },
  {
   "cell_type": "code",
   "execution_count": 325,
   "metadata": {},
   "outputs": [],
   "source": [
    "# 500,000 episodes\n",
    "val_mat_ace2, val_mat_no2, avg_reward2 = mcpe(iter_num=500000)"
   ]
  },
  {
   "cell_type": "code",
   "execution_count": 328,
   "metadata": {},
   "outputs": [
    {
     "data": {
      "image/png": "[encoded data removed]",
      "text/plain": [
       "<Figure size 864x576 with 4 Axes>"
      ]
     },
     "metadata": {
      "needs_background": "light"
     },
     "output_type": "display_data"
    }
   ],
   "source": [
    "plot(val_mat_ace2, val_mat_no2)"
   ]
  },
  {
   "cell_type": "code",
   "execution_count": 329,
   "metadata": {},
   "outputs": [
    {
     "data": {
      "image/png": "[encoded data removed]",
      "text/plain": [
       "<Figure size 1008x360 with 2 Axes>"
      ]
     },
     "metadata": {
      "needs_background": "light"
     },
     "output_type": "display_data"
    }
   ],
   "source": [
    "# plot overall average reward per episode vs the number of episodes\n",
    "plt.figure(figsize=(14,5))\n",
    "plt.suptitle('Overall average reward per episode under naive policy')\n",
    "\n",
    "plt.subplot(1,2,1)\n",
    "plt.title('10,000 episodes')\n",
    "plt.plot(avg_reward1)\n",
    "plt.xlabel('Number of episodes')\n",
    "plt.ylabel('Average reward per episode')\n",
    "#plt.ylim(-1,1)\n",
    "\n",
    "plt.subplot(1,2,2)\n",
    "plt.title('500,000 episodes')\n",
    "plt.plot(avg_reward2)\n",
    "plt.xlabel('Number of episodes')\n",
    "plt.ylabel('Average reward per episode')\n",
    "#plt.ylim(-1,1)\n",
    "plt.show()"
   ]
  },
  {
   "cell_type": "code",
   "execution_count": 331,
   "metadata": {},
   "outputs": [
    {
     "name": "stdout",
     "output_type": "stream",
     "text": [
      "With 10,000 episodes, the overall average reward for this policy is -0.3688.\n",
      "With 500,000 episode, the overall average reward for this policy is -0.3546.\n"
     ]
    }
   ],
   "source": [
    "print(f'With 10,000 episodes, the overall average reward for this policy is {avg_reward1[-1]:.4f}.')\n",
    "print(f'With 500,000 episode, the overall average reward for this policy is {avg_reward2[-1]:.4f}.')"
   ]
  },
  {
   "cell_type": "markdown",
   "metadata": {},
   "source": [
    "## 3\n",
    "\n",
    "### [40 points] Perform Monte Carlo Control\n",
    "\n",
    "**(a)** Using Monte Carlo Control through policy iteration, estimate the optimal policy for playing our modified blackjack game to maximize rewards. \n",
    "\n",
    "In doing this, use the following assumptions:\n",
    "1. Initialize the value function and the state value function to all zeros\n",
    "2. Keep a running tally of the number of times the agent visited each state and chose an action. $N(s_t,a_t)$ is the number of times action $a$ has been selected from state $s$. You'll need this to compute the running average. You can implement an online average as: $\\bar{x}_{t} = \\frac{1}{N}x_t + \\frac{N-1}{N}\\bar{x}_{t-1}$ \n",
    "3. Use an $\\epsilon$-greedy exploration strategy with $\\epsilon_t = \\frac{N_0}{N_0 + N(s_t)}$, where we define $N_0 = 100$. Vary $N_0$ as needed.\n",
    "\n",
    "Show your result by plotting the optimal value function: $V^*(s) = max_a Q^*(s,a)$ and the optimal policy $\\pi^*(s)$. Create plots for these similar to Sutton and Barto, Figure 5.2 in the new draft edition, or 5.5 in the original edition. Your results SHOULD be very similar to the plots in that text. For these plots include:\n",
    "1. When you have a useable ace, plot the state space with the dealer's card on the x-axis, and the player's sum on the y-axis, and use the 'RdBu' matplotlib colormap and `imshow` to plot the value of each state under the policy described above. The domain of your x and y axes should include all possible states (2 to 21 for the player sum, and 1 to 10 for the dealer's visible card).\n",
    "2. Repeat (1) for the states without a usable ace.\n",
    "3. A plot of the optimal policy $\\pi^*(s)$ for the states with a usable ace (this plot could be an imshow plot with binary values).\n",
    "4. A plot of the optimal policy $\\pi^*(s)$ for the states without a usable ace (this plot could be an imshow plot with binary values).\n",
    "\n",
    "**(b)** Show a plot of the overall average reward per episode vs the number of episodes. What is the average reward your control strategy was able to achieve?\n",
    "\n",
    "*Note: convergence of this algorithm is extremely slow. You may need to let this run a few million episodes before the policy starts to converge. You're not expected to get EXACTLY the optimal policy, but it should be visibly close.* "
   ]
  },
  {
   "cell_type": "markdown",
   "metadata": {},
   "source": [
    "**ANSWER**"
   ]
  },
  {
   "cell_type": "code",
   "execution_count": 14,
   "metadata": {},
   "outputs": [],
   "source": [
    "class MCMC():\n",
    "    def __init__(self, iter_num=10000, N0=100):\n",
    "        self.iter_num = iter_num\n",
    "        self.N0 = N0\n",
    "\n",
    "        # initialize action_value = (player sum, dealer card, ace, action)\n",
    "        self.action_value = np.zeros((20,10,2,2))\n",
    "        self.action_value_counter = np.zeros((20,10,2,2))\n",
    "        \n",
    "        # initialize returns list to record reward for each round\n",
    "        self.returns = []\n",
    "    \n",
    "    \n",
    "    def policy(self, state):\n",
    "\n",
    "        # epsilon-greedy\n",
    "        epsilon = self.N0/(self.N0 + np.sum(self.action_value_counter[state]))\n",
    "\n",
    "        # exploit: pick current best option (step with greatest value)\n",
    "        if np.random.random() > epsilon:\n",
    "            step = np.argmax(self.action_value[state])\n",
    "        # explore: take random option epsilon of the times\n",
    "        else:\n",
    "            step = random.choice([0,1])\n",
    "\n",
    "        return step\n",
    "        \n",
    "    \n",
    "    def policy_eval(self):\n",
    "        \n",
    "        # obtain state_action pairs and reward for each game\n",
    "        for i in trange(self.iter_num):\n",
    "            state_action, reward = self.one_game()\n",
    "            \n",
    "            # for all state_action pairs within each game\n",
    "            for state_act in state_action:\n",
    "                # obtain initial count for each state_act pair\n",
    "                N = self.action_value_counter[state_act]\n",
    "                \n",
    "                # update action_value using online average\n",
    "                self.action_value[state_act] = (reward + N*self.action_value[state_act])/(N+1)\n",
    "                # update action_value_count\n",
    "                self.action_value_counter[state_act] += 1\n",
    "            pass\n",
    "            # record reward for each round\n",
    "            self.returns.append(reward)\n",
    "        pass\n",
    "             \n",
    "        \n",
    "    def one_game(self):\n",
    "        # initialize one game\n",
    "        game = Blackjack()\n",
    "        hand = game.deal()\n",
    "        state_action = []\n",
    "        finish = False\n",
    "        \n",
    "        while (not finish):\n",
    "            player_idx, dealer_idx, ace = hand[0]-2, hand[1]-1, int(hand[2])\n",
    "\n",
    "            # decide which step to take\n",
    "            step = self.policy((player_idx, dealer_idx, ace))\n",
    "\n",
    "            # record state_action\n",
    "            state_action.append((player_idx, dealer_idx, ace)+(step,))\n",
    "\n",
    "            # take step according to policy\n",
    "            hand, reward, finish = game.step(step)\n",
    "        \n",
    "        return state_action, reward\n",
    "                \n",
    "              "
   ]
  },
  {
   "cell_type": "code",
   "execution_count": 15,
   "metadata": {},
   "outputs": [],
   "source": [
    "mcmc = MCMC(iter_num=8000000, N0=100)"
   ]
  },
  {
   "cell_type": "code",
   "execution_count": 16,
   "metadata": {},
   "outputs": [
    {
     "name": "stderr",
     "output_type": "stream",
     "text": [
      "100%|██████████| 8000000/8000000 [12:25<00:00, 10734.99it/s]\n"
     ]
    }
   ],
   "source": [
    "mcmc.policy_eval()"
   ]
  },
  {
   "cell_type": "code",
   "execution_count": 17,
   "metadata": {},
   "outputs": [
    {
     "data": {
      "image/png": "[encoded data removed]",
      "text/plain": [
       "<Figure size 864x576 with 4 Axes>"
      ]
     },
     "metadata": {
      "needs_background": "light"
     },
     "output_type": "display_data"
    }
   ],
   "source": [
    "# plotting\n",
    "state_value = np.max(mcmc.action_value, axis=-1)\n",
    "policy = np.argmax(mcmc.action_value, axis=-1)\n",
    "\n",
    "# plot state-value\n",
    "plt.figure(figsize=(12,8))\n",
    "plt.suptitle('Value of each state under optimal policy (8,000,000 episodes)')\n",
    "\n",
    "plt.subplot(1,2,1)\n",
    "plt.title('With usable ace')\n",
    "plt.imshow(state_value[:,:,1], vmin=-1, vmax=1, cmap=\"RdBu\")\n",
    "plt.xlabel(\"Dealer's card\")\n",
    "plt.ylabel(\"Player's sum\")\n",
    "plt.xticks(np.arange(10), list(map(int, np.arange(1,11))))\n",
    "plt.yticks(np.arange(20), list(map(int, np.arange(2,22))))\n",
    "plt.colorbar()\n",
    "\n",
    "plt.subplot(1,2,2)\n",
    "plt.title('No usable ace')\n",
    "plt.imshow(state_value[:,:,0], vmin=-1, vmax=1, cmap=\"RdBu\")\n",
    "plt.xlabel(\"Dealer's card\")\n",
    "plt.ylabel(\"Player's sum\")\n",
    "plt.xticks(np.arange(10), list(map(int, np.arange(1,11))))\n",
    "plt.yticks(np.arange(20), list(map(int, np.arange(2,22))))\n",
    "plt.colorbar()\n",
    "plt.show()"
   ]
  },
  {
   "cell_type": "code",
   "execution_count": 18,
   "metadata": {},
   "outputs": [
    {
     "data": {
      "image/png": "[encoded data removed]",
      "text/plain": [
       "<Figure size 864x576 with 4 Axes>"
      ]
     },
     "metadata": {
      "needs_background": "light"
     },
     "output_type": "display_data"
    }
   ],
   "source": [
    "# plot optimal policy-value\n",
    "plt.figure(figsize=(12,8))\n",
    "plt.suptitle('Optimal policy (8,000,000 episodes)\\nRed: Stay (0)\\nBlue: Hit (1)')\n",
    "\n",
    "plt.subplot(1,2,1)\n",
    "plt.imshow(policy[:,:,1], cmap='RdBu')\n",
    "plt.title('With usable ace')\n",
    "plt.xlabel(\"Dealer's Card\")\n",
    "plt.ylabel(\"Player's Sum\")\n",
    "plt.xticks(np.arange(10), list(map(str, np.arange(1,11))))\n",
    "plt.yticks(np.arange(20), list(map(str, np.arange(2,22))))\n",
    "plt.colorbar()\n",
    "\n",
    "plt.subplot(1,2,2)\n",
    "plt.imshow(policy[:,:,0], cmap='RdBu')\n",
    "plt.title('No usable ace')\n",
    "plt.xlabel(\"Dealer's Card\")\n",
    "plt.ylabel(\"Player's Sum\")\n",
    "plt.xticks(np.arange(10), list(map(str, np.arange(1,11))))\n",
    "plt.yticks(np.arange(20), list(map(str, np.arange(2,22))))\n",
    "plt.colorbar()\n",
    "plt.show()"
   ]
  },
  {
   "cell_type": "code",
   "execution_count": 19,
   "metadata": {},
   "outputs": [
    {
     "data": {
      "image/png": "[encoded data removed]",
      "text/plain": [
       "<Figure size 720x432 with 1 Axes>"
      ]
     },
     "metadata": {
      "needs_background": "light"
     },
     "output_type": "display_data"
    }
   ],
   "source": [
    "# plot overall average reward per episode vs the number of episodes\n",
    "avg_returns = np.cumsum(mcmc.returns)/np.arange(1, mcmc.iter_num+1)\n",
    "plt.figure(figsize=(10,6))\n",
    "plt.plot(np.arange(1, mcmc.iter_num+1), avg_returns)\n",
    "plt.title('Overall average reward per episode vs number of episodes')\n",
    "plt.xlabel('Number of episodes')\n",
    "plt.ylabel('Average returns per episode')\n",
    "plt.show()"
   ]
  },
  {
   "cell_type": "code",
   "execution_count": 20,
   "metadata": {},
   "outputs": [
    {
     "name": "stdout",
     "output_type": "stream",
     "text": [
      "The average reward the control strategy was able to achieve is -0.0548\n"
     ]
    }
   ],
   "source": [
    "print(f'The average reward the control strategy was able to achieve is {avg_returns[-1]:.4f}')"
   ]
  },
  {
   "cell_type": "code",
   "execution_count": null,
   "metadata": {},
   "outputs": [],
   "source": []
  },
  {
   "cell_type": "markdown",
   "metadata": {},
   "source": [
    "## 4\n",
    "\n",
    "### [10 points] Discuss your findings\n",
    "\n",
    "Compare the performance of your human control policy, the naive policy from question 2, and the optimal control policy in question 3. \n",
    "**(a)** Which performs best? Why is this the case? \n",
    "**(b)** Could you have created a better policy if you knew the full Markov Decision Process for this environment? Why or why not?"
   ]
  },
  {
   "cell_type": "markdown",
   "metadata": {},
   "source": [
    "**ANSWER**"
   ]
  },
  {
   "cell_type": "markdown",
   "metadata": {},
   "source": [
    "**(a)**\n",
    "\n",
    "The optimal control policy performs the best. This is because we are able to estimate the value for each state-action pair by playing many iterations of games and recording their respective average returns. This approach takes all possible states into consideration using exploration and exploitation from the epsilon-greedy method. By choosing the action with a higher estimated value, the oplicy is optimal to achieve overal higher average return.\n"
   ]
  },
  {
   "cell_type": "markdown",
   "metadata": {},
   "source": [
    "**(b)**\n",
    "\n",
    "I could not have created a better policy if knowing the full Markov Decision Process for this environment. This is because all possible state-action pairs have been recorded. The policy chooses action with higher estimated value, and guarantees a maximum average return, given a large number of games played.\n",
    "\n"
   ]
  },
  {
   "cell_type": "code",
   "execution_count": null,
   "metadata": {},
   "outputs": [],
   "source": []
  }
 ],
 "metadata": {
  "kernelspec": {
   "display_name": "Python 3",
   "language": "python",
   "name": "python3"
  },
  "language_info": {
   "codemirror_mode": {
    "name": "ipython",
    "version": 3
   },
   "file_extension": ".py",
   "mimetype": "text/x-python",
   "name": "python",
   "nbconvert_exporter": "python",
   "pygments_lexer": "ipython3",
   "version": "3.7.4"
  },
  "varInspector": {
   "cols": {
    "lenName": 16,
    "lenType": 16,
    "lenVar": 40
   },
   "kernels_config": {
    "python": {
     "delete_cmd_postfix": "",
     "delete_cmd_prefix": "del ",
     "library": "var_list.py",
     "varRefreshCmd": "print(var_dic_list())"
    },
    "r": {
     "delete_cmd_postfix": ") ",
     "delete_cmd_prefix": "rm(",
     "library": "var_list.r",
     "varRefreshCmd": "cat(var_dic_list()) "
    }
   },
   "types_to_exclude": [
    "module",
    "function",
    "builtin_function_or_method",
    "instance",
    "_Feature"
   ],
   "window_display": false
  }
 },
 "nbformat": 4,
 "nbformat_minor": 4
}
