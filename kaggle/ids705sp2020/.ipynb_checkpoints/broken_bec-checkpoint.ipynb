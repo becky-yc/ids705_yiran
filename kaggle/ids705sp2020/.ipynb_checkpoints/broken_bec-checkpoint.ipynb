{
 "cells": [
  {
   "cell_type": "code",
   "execution_count": 26,
   "metadata": {},
   "outputs": [],
   "source": [
    "# -*- coding: utf-8 -*-\n",
    "'''Sample script for solar array image classification\n",
    "\n",
    "Author:       Kyle Bradbury\n",
    "Date:         January 30, 2018\n",
    "Organization: Duke University Energy Initiative\n",
    "'''\n",
    "\n",
    "'''\n",
    "Import the packages needed for classification\n",
    "'''\n",
    "import numpy as np\n",
    "import matplotlib.pyplot as plt\n",
    "import matplotlib as mpl\n",
    "import pandas as pd\n",
    "from sklearn.model_selection import StratifiedKFold\n",
    "from sklearn.neighbors import KNeighborsClassifier\n",
    "import sklearn.metrics as metrics\n",
    "from sklearn.linear_model import LogisticRegression\n",
    "from sklearn.decomposition import PCA\n",
    "from sklearn.neural_network import MLPClassifier\n",
    "from sklearn.ensemble import RandomForestClassifier\n",
    "from IPython.display import display\n",
    "from PIL import Image\n",
    "from skimage.feature import hog\n",
    "from skimage.color import rgb2grey\n",
    "from sklearn.preprocessing import StandardScaler\n",
    "from sklearn.svm import SVC\n",
    "from sklearn.svm import LinearSVC\n",
    "from xgboost import XGBClassifier\n",
    "from skimage.filters import prewitt\n",
    "import cv2"
   ]
  },
  {
   "cell_type": "code",
   "execution_count": 4,
   "metadata": {},
   "outputs": [],
   "source": [
    "'''\n",
    "Set directory parameters\n",
    "'''\n",
    "# Set the directories for the data and the CSV files that contain ids/labels\n",
    "dir_train_images  = './training/'\n",
    "dir_test_images   = './testing/'\n",
    "dir_train_labels  = './labels_training.csv'\n",
    "dir_test_ids      = './sample_submission.csv'"
   ]
  },
  {
   "cell_type": "code",
   "execution_count": 5,
   "metadata": {},
   "outputs": [],
   "source": [
    "'''\n",
    "Include the functions used for loading, preprocessing, features extraction,\n",
    "classification, and performance evaluation\n",
    "'''\n",
    "\n",
    "def load_data(dir_data, dir_labels, training=True):\n",
    "    ''' Load each of the image files into memory \n",
    "\n",
    "    While this is feasible with a smaller dataset, for larger datasets,\n",
    "    not all the images would be able to be loaded into memory\n",
    "\n",
    "    When training=True, the labels are also loaded\n",
    "    '''\n",
    "    labels_pd = pd.read_csv(dir_labels)\n",
    "    ids       = labels_pd.id.values\n",
    "    data      = []\n",
    "    for identifier in ids:\n",
    "        fname     = dir_data + identifier.astype(str) + '.tif'\n",
    "        image     = mpl.image.imread(fname)\n",
    "        data.append(image)\n",
    "    data = np.array(data) # Convert to Numpy array\n",
    "    if training:\n",
    "        labels = labels_pd.label.values\n",
    "        return data, labels\n",
    "    else:\n",
    "        return data, ids"
   ]
  },
  {
   "cell_type": "code",
   "execution_count": 6,
   "metadata": {},
   "outputs": [],
   "source": [
    "# Load the data\n",
    "data, labels = load_data(dir_train_images, dir_train_labels, training=True)"
   ]
  },
  {
   "cell_type": "code",
   "execution_count": 7,
   "metadata": {},
   "outputs": [],
   "source": [
    "def preprocess_and_extract_features(data):\n",
    "    '''Preprocess data and extract features\n",
    "\n",
    "    Preprocess: normalize, scale, repair\n",
    "    Extract features: transformations and dimensionality reduction\n",
    "    '''\n",
    "    # Here, we do something trivially simple: we take the average of the RGB\n",
    "    # values to produce a grey image, transform that into a vector, then\n",
    "    # extract the mean and standard deviation as features.\n",
    "\n",
    "    # Make the image grayscale\n",
    "    #data = rgb2grey(data)\n",
    "    #data[data > 140] = 255\n",
    "    \n",
    "#     # Vectorize the grayscale matrices\n",
    "#     vectorized_data = data.reshape(data.shape[0],-1)\n",
    "#     features = vectorized_data\n",
    "    \n",
    "#     # extract the mean and standard deviation of each sample as features\n",
    "#     feature_mean = np.mean(vectorized_data,axis=1)\n",
    "#     feature_std  = np.std(vectorized_data,axis=1)\n",
    "    \n",
    "#     # Combine the extracted features into a single feature vector\n",
    "#     features = np.stack((feature_mean,feature_std),axis=-1)\n",
    "    \n",
    "    \n",
    "    hog_feature_list = []\n",
    "    for i in range(len(data)):\n",
    "        # extract hog features of each sample\n",
    "        hog_features = hog(data[i], block_norm='L2-Hys', pixels_per_cell=(16, 16), feature_vector=True)\n",
    "        hog_feature_list.append(hog_features) \n",
    "    features = np.array(hog_feature_list)\n",
    "\n",
    "    \n",
    "    return features\n"
   ]
  },
  {
   "cell_type": "code",
   "execution_count": 29,
   "metadata": {},
   "outputs": [],
   "source": [
    "def set_classifier(model = ['RF', 10] ):\n",
    "    '''Shared function to select the classifier for both performance evaluation\n",
    "    and testing\n",
    "    '''    \n",
    "\n",
    "    if model[0] == 'SVC':\n",
    "        if len(model) > 1:\n",
    "            return SVC(C = model[1], probability=True)        \n",
    "        else:\n",
    "            return SVC(probability=True)\n",
    "        \n",
    "    if model[0] == 'SVC2':\n",
    "        return SVC(degree = 2, probability=True)\n",
    "    \n",
    "    if model[0] == 'SVC4':\n",
    "        return SVC(degree = 4, probability=True)\n",
    "    \n",
    "    if model[0] == 'LinearSVC':\n",
    "        return LinearSVC(probability=True)\n",
    "    \n",
    "    if model[0] == 'LR':\n",
    "        return LogisticRegression()\n",
    "    \n",
    "    if model[0] == 'NN':\n",
    "        return MLPClassifier()\n",
    "    \n",
    "    if model[0] == 'NN1':\n",
    "        return MLPClassifier(hidden_layer_sizes=(200, ))\n",
    "\n",
    "    if model[0] == 'NN2':\n",
    "        return MLPClassifier(hidden_layer_sizes=(100, 100,))\n",
    "    \n",
    "    if model [0] == 'XGB':\n",
    "        if len(model) > 1:\n",
    "            return XGBClassifier(n_estimators=model[1])\n",
    "        else:\n",
    "            return XGBClassifier()\n",
    "    \n",
    "    if model[0] == 'RF':\n",
    "        if len(model) == 2:\n",
    "            return RandomForestClassifier(n_jobs=2, n_estimators=model[1], random_state=0)\n",
    "        elif len(model) == 3:\n",
    "            return RandomForestClassifier(n_jobs=2, n_estimators=model[1], depth = model[2], random_state=0)\n",
    "\n",
    "    print ('no model found!')\n",
    "    exit()"
   ]
  },
  {
   "cell_type": "code",
   "execution_count": 10,
   "metadata": {},
   "outputs": [],
   "source": [
    "def cv_performance_assessment(X_features,y,k,clf):\n",
    "    '''Cross validated performance assessment\n",
    "\n",
    "    X   = training data\n",
    "    y   = training labels\n",
    "    k   = number of folds for cross validation\n",
    "    clf = classifier to use\n",
    "\n",
    "    Divide the training data into k folds of training and validation data.\n",
    "    For each fold the classifier will be trained on the training data and\n",
    "    tested on the validation data. The classifier prediction scores are\n",
    "    aggregated and output\n",
    "    '''\n",
    "    # Establish the k folds\n",
    "    prediction_scores = np.empty(y.shape[0],dtype='object')\n",
    "    prediction_scores_train = np.empty(y.shape[0],dtype='object')\n",
    "    \n",
    "    \n",
    "    kf = StratifiedKFold(n_splits=k, shuffle=True)\n",
    "    for train_index, val_index in kf.split(X_features, y):\n",
    "        # Extract the training and validation data for this fold\n",
    "        X_train_features, X_val_features   = X_features[train_index], X_features[val_index]\n",
    "        y_train          = y[train_index]\n",
    "\n",
    "        # Train the classifier\n",
    "        #X_train_features = preprocess_and_extract_features(X_train)\n",
    "        \n",
    "#         # Make an instance of PCA model\n",
    "#         pca = PCA(.95)\n",
    "#         pca.fit(X_train_features)\n",
    "#         X_train_features = pca.transform(X_train_features)     \n",
    "        \n",
    "        clf              = clf.fit(X_train_features,y_train)\n",
    "\n",
    "        # Test the classifier on the validation data for this fold\n",
    "        #X_val_features   = preprocess_and_extract_features(X_val)\n",
    "        \n",
    "        #X_val_features   = pca.transform(X_val_features) \n",
    "        \n",
    "        cpred            = clf.predict_proba(X_val_features)\n",
    "        cpred_train      = clf.predict_proba(X_train_features)\n",
    "\n",
    "        # Save the predictions for this fold\n",
    "        prediction_scores[val_index] = cpred[:,1]\n",
    "        prediction_scores_train[train_index] = cpred_train[:,1]\n",
    "    return prediction_scores_train, prediction_scores"
   ]
  },
  {
   "cell_type": "code",
   "execution_count": 11,
   "metadata": {},
   "outputs": [],
   "source": [
    "def plot_roc(labels, prediction_scores):\n",
    "    fpr, tpr, _ = metrics.roc_curve(labels, prediction_scores, pos_label=1)\n",
    "    auc = metrics.roc_auc_score(labels, prediction_scores)\n",
    "    legend_string = 'AUC = {:0.3f}'.format(auc)\n",
    "\n",
    "    if False:\n",
    "        plt.plot([0,1],[0,1],'--', color='gray', label='Chance')\n",
    "        plt.plot(fpr, tpr, label=legend_string)\n",
    "        plt.xlabel('False Positive Rate')\n",
    "        plt.ylabel('True Positive Rate')\n",
    "        plt.grid('on')\n",
    "        plt.axis('square')\n",
    "        plt.legend()\n",
    "        plt.tight_layout()\n",
    "    return round(auc * 100, 1)"
   ]
  },
  {
   "cell_type": "code",
   "execution_count": 64,
   "metadata": {},
   "outputs": [
    {
     "data": {
      "image/png": "[encoded data removed]",
      "text/plain": [
       "<Figure size 432x288 with 1 Axes>"
      ]
     },
     "metadata": {
      "needs_background": "light"
     },
     "output_type": "display_data"
    }
   ],
   "source": [
    "### Greyscale + HOG + SVC\n",
    "\n",
    "num_training_folds = 20\n",
    "data, labels = load_data(dir_train_images, dir_train_labels, training=True)\n",
    "clf = set_classifier()\n",
    "prediction_scores = cv_performance_assessment(data,labels,num_training_folds,clf)\n",
    "plot_roc(labels, prediction_scores)"
   ]
  },
  {
   "cell_type": "code",
   "execution_count": null,
   "metadata": {},
   "outputs": [],
   "source": []
  },
  {
   "cell_type": "code",
   "execution_count": null,
   "metadata": {},
   "outputs": [],
   "source": []
  },
  {
   "cell_type": "code",
   "execution_count": null,
   "metadata": {},
   "outputs": [],
   "source": []
  },
  {
   "cell_type": "code",
   "execution_count": 15,
   "metadata": {},
   "outputs": [],
   "source": [
    "num_training_folds = 5\n",
    "data, labels = load_data(dir_train_images, dir_train_labels, training=True)"
   ]
  },
  {
   "cell_type": "code",
   "execution_count": 34,
   "metadata": {},
   "outputs": [
    {
     "data": {
      "text/plain": [
       "(1500, 101, 101, 3)"
      ]
     },
     "execution_count": 34,
     "metadata": {},
     "output_type": "execute_result"
    }
   ],
   "source": [
    "data.shape"
   ]
  },
  {
   "cell_type": "code",
   "execution_count": 16,
   "metadata": {},
   "outputs": [],
   "source": [
    "data_features = preprocess_and_extract_features(data)"
   ]
  },
  {
   "cell_type": "code",
   "execution_count": 85,
   "metadata": {},
   "outputs": [
    {
     "name": "stdout",
     "output_type": "stream",
     "text": [
      "['RF', 10] 99.9 70.4\n",
      "['RF', 50] 100.0 74.8\n",
      "['NN'] 100.0 80.7\n",
      "['SVC'] 98.9 84.2\n"
     ]
    }
   ],
   "source": [
    "for model in [['RF', 10], ['RF', 50], ['NN'], ['SVC'] ]:\n",
    "    clf = set_classifier(model)\n",
    "    prediction_scores_train, prediction_scores = cv_performance_assessment(data_features,labels,num_training_folds,clf)\n",
    "    auc = plot_roc(labels, prediction_scores)\n",
    "    auc_t = plot_roc(labels, prediction_scores_train)\n",
    "    print (model, auc_t, auc)"
   ]
  },
  {
   "cell_type": "code",
   "execution_count": 92,
   "metadata": {},
   "outputs": [
    {
     "name": "stdout",
     "output_type": "stream",
     "text": [
      "['RF', 100] 100.0 77.9\n",
      "['RF', 150] 100.0 77.3\n",
      "['RF', 70] 100.0 77.6\n",
      "['RF', 40] 100.0 74.3\n"
     ]
    }
   ],
   "source": [
    "for model in [['RF', 100], ['RF', 150], ['RF', 70], ['RF', 40]]:\n",
    "    clf = set_classifier(model)\n",
    "    prediction_scores_train, prediction_scores = cv_performance_assessment(data_features,labels,num_training_folds,clf)\n",
    "    auc = plot_roc(labels, prediction_scores)\n",
    "    auc_t = plot_roc(labels, prediction_scores_train)\n",
    "    print (model, auc_t, auc)"
   ]
  },
  {
   "cell_type": "code",
   "execution_count": 96,
   "metadata": {},
   "outputs": [
    {
     "name": "stdout",
     "output_type": "stream",
     "text": [
      "['NN1'] 100.0 80.0\n",
      "['NN2'] 100.0 80.6\n"
     ]
    }
   ],
   "source": [
    "for model in [['NN1'], ['NN2']]:\n",
    "    clf = set_classifier(model)\n",
    "    prediction_scores_train, prediction_scores = cv_performance_assessment(data_features,labels,num_training_folds,clf)\n",
    "    auc = plot_roc(labels, prediction_scores)\n",
    "    auc_t = plot_roc(labels, prediction_scores_train)\n",
    "    print (model, auc_t, auc)"
   ]
  },
  {
   "cell_type": "code",
   "execution_count": 98,
   "metadata": {},
   "outputs": [
    {
     "name": "stdout",
     "output_type": "stream",
     "text": [
      "['SVC', 0.1] 90.9 80.4\n",
      "['SVC', 10] 100.0 83.8\n"
     ]
    }
   ],
   "source": [
    "for model in [['SVC', 0.1], ['SVC', 10]]:\n",
    "    clf = set_classifier(model)\n",
    "    prediction_scores_train, prediction_scores = cv_performance_assessment(data_features,labels,num_training_folds,clf)\n",
    "    auc = plot_roc(labels, prediction_scores)\n",
    "    auc_t = plot_roc(labels, prediction_scores_train)\n",
    "    print (model, auc_t, auc)"
   ]
  },
  {
   "cell_type": "code",
   "execution_count": 18,
   "metadata": {},
   "outputs": [
    {
     "name": "stdout",
     "output_type": "stream",
     "text": [
      "['SVC', 0.5] 95.7 82.6\n"
     ]
    }
   ],
   "source": [
    "for model in [['SVC', 0.5]]:\n",
    "    clf = set_classifier(model)\n",
    "    prediction_scores_train, prediction_scores = cv_performance_assessment(data_features,labels,num_training_folds,clf)\n",
    "    auc = plot_roc(labels, prediction_scores)\n",
    "    auc_t = plot_roc(labels, prediction_scores_train)\n",
    "    print (model, auc_t, auc)"
   ]
  },
  {
   "cell_type": "code",
   "execution_count": 23,
   "metadata": {},
   "outputs": [
    {
     "name": "stdout",
     "output_type": "stream",
     "text": [
      "['SVC2'] 98.9 84.5\n",
      "['SVC4'] 99.1 84.2\n"
     ]
    }
   ],
   "source": [
    "for model in [['SVC2'], ['SVC4']]:\n",
    "    clf = set_classifier(model)\n",
    "    prediction_scores_train, prediction_scores = cv_performance_assessment(data_features,labels,num_training_folds,clf)\n",
    "    auc = plot_roc(labels, prediction_scores)\n",
    "    auc_t = plot_roc(labels, prediction_scores_train)\n",
    "    print (model, auc_t, auc)"
   ]
  },
  {
   "cell_type": "code",
   "execution_count": 28,
   "metadata": {},
   "outputs": [
    {
     "name": "stdout",
     "output_type": "stream",
     "text": [
      "['XGB'] 100.0 78.5\n"
     ]
    }
   ],
   "source": [
    "for model in [['XGB']]:\n",
    "    clf = set_classifier(model)\n",
    "    prediction_scores_train, prediction_scores = cv_performance_assessment(data_features,labels,num_training_folds,clf)\n",
    "    auc = plot_roc(labels, prediction_scores)\n",
    "    auc_t = plot_roc(labels, prediction_scores_train)\n",
    "    print (model, auc_t, auc)"
   ]
  },
  {
   "cell_type": "code",
   "execution_count": 30,
   "metadata": {},
   "outputs": [
    {
     "name": "stdout",
     "output_type": "stream",
     "text": [
      "['XGB', 10] 89.6 70.8\n",
      "['XGB', 20] 94.6 74.2\n",
      "['XGB', 40] 98.6 76.6\n",
      "['XGB', 80] 99.9 78.2\n"
     ]
    }
   ],
   "source": [
    "for model in [['XGB', 10], ['XGB', 20], ['XGB', 40], ['XGB', 80]]:\n",
    "    clf = set_classifier(model)\n",
    "    prediction_scores_train, prediction_scores = cv_performance_assessment(data_features,labels,num_training_folds,clf)\n",
    "    auc = plot_roc(labels, prediction_scores)\n",
    "    auc_t = plot_roc(labels, prediction_scores_train)\n",
    "    print (model, auc_t, auc)"
   ]
  },
  {
   "cell_type": "code",
   "execution_count": 35,
   "metadata": {},
   "outputs": [
    {
     "name": "stdout",
     "output_type": "stream",
     "text": [
      "['XGB', 200] 100.0 80.0\n"
     ]
    }
   ],
   "source": [
    "for model in [['XGB', 200]]:\n",
    "    clf = set_classifier(model)\n",
    "    prediction_scores_train, prediction_scores = cv_performance_assessment(data_features,labels,num_training_folds,clf)\n",
    "    auc = plot_roc(labels, prediction_scores)\n",
    "    auc_t = plot_roc(labels, prediction_scores_train)\n",
    "    print (model, auc_t, auc)"
   ]
  },
  {
   "cell_type": "code",
   "execution_count": null,
   "metadata": {},
   "outputs": [],
   "source": []
  },
  {
   "cell_type": "code",
   "execution_count": null,
   "metadata": {},
   "outputs": [],
   "source": []
  },
  {
   "cell_type": "code",
   "execution_count": null,
   "metadata": {},
   "outputs": [],
   "source": []
  },
  {
   "cell_type": "code",
   "execution_count": null,
   "metadata": {},
   "outputs": [],
   "source": []
  },
  {
   "cell_type": "code",
   "execution_count": null,
   "metadata": {},
   "outputs": [],
   "source": []
  },
  {
   "cell_type": "code",
   "execution_count": null,
   "metadata": {},
   "outputs": [],
   "source": []
  },
  {
   "cell_type": "code",
   "execution_count": null,
   "metadata": {},
   "outputs": [],
   "source": []
  },
  {
   "cell_type": "code",
   "execution_count": null,
   "metadata": {},
   "outputs": [],
   "source": []
  },
  {
   "cell_type": "code",
   "execution_count": null,
   "metadata": {},
   "outputs": [],
   "source": []
  },
  {
   "cell_type": "code",
   "execution_count": null,
   "metadata": {},
   "outputs": [],
   "source": []
  },
  {
   "cell_type": "code",
   "execution_count": null,
   "metadata": {},
   "outputs": [],
   "source": []
  },
  {
   "cell_type": "code",
   "execution_count": null,
   "metadata": {},
   "outputs": [],
   "source": []
  },
  {
   "cell_type": "code",
   "execution_count": null,
   "metadata": {},
   "outputs": [],
   "source": []
  },
  {
   "cell_type": "code",
   "execution_count": null,
   "metadata": {},
   "outputs": [],
   "source": []
  },
  {
   "cell_type": "code",
   "execution_count": null,
   "metadata": {},
   "outputs": [],
   "source": []
  },
  {
   "cell_type": "markdown",
   "metadata": {},
   "source": [
    "### Submission"
   ]
  },
  {
   "cell_type": "code",
   "execution_count": 62,
   "metadata": {},
   "outputs": [],
   "source": [
    "'''\n",
    "Sample script for producing a Kaggle submission\n",
    "'''\n",
    "\n",
    "produce_submission = True # Switch this to True when you're ready to create a submission for Kaggle\n",
    "\n",
    "if produce_submission:\n",
    "    # Load data, extract features, and train the classifier on the training data\n",
    "    training_data, training_labels = load_data(dir_train_images, dir_train_labels, training=True)\n",
    "    training_features              = preprocess_and_extract_features(training_data)\n",
    "    clf                            = set_classifier()\n",
    "    clf.fit(training_features,training_labels)\n",
    "\n",
    "    # Load the test data and test the classifier\n",
    "    test_data, ids = load_data(dir_test_images, dir_test_ids, training=False)\n",
    "    test_features  = preprocess_and_extract_features(test_data)\n",
    "    test_scores    = clf.predict_proba(test_features)[:,1]\n",
    "\n",
    "    # Save the predictions to a CSV file for upload to Kaggle\n",
    "    submission_file = pd.DataFrame({'id':    ids,\n",
    "                                   'score':  test_scores})\n",
    "    submission_file.to_csv('submission.csv',\n",
    "                           columns=['id','score'],\n",
    "                           index=False)"
   ]
  },
  {
   "cell_type": "code",
   "execution_count": null,
   "metadata": {},
   "outputs": [],
   "source": []
  }
 ],
 "metadata": {
  "kernelspec": {
   "display_name": "Python 3",
   "language": "python",
   "name": "python3"
  },
  "language_info": {
   "codemirror_mode": {
    "name": "ipython",
    "version": 3
   },
   "file_extension": ".py",
   "mimetype": "text/x-python",
   "name": "python",
   "nbconvert_exporter": "python",
   "pygments_lexer": "ipython3",
   "version": "3.7.4"
  }
 },
 "nbformat": 4,
 "nbformat_minor": 4
}
